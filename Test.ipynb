{
 "cells": [
  {
   "cell_type": "code",
   "execution_count": 74,
   "id": "e2dbb87e-7670-44d6-b801-3f8ce82367f3",
   "metadata": {},
   "outputs": [],
   "source": [
    "from SUS.clustering import kernel_km\n"
   ]
  },
  {
   "cell_type": "code",
   "execution_count": 75,
   "id": "a57f2afb-304c-4d21-98ca-c4b57f504e62",
   "metadata": {},
   "outputs": [],
   "source": [
    "import time as t\n",
    "tic = t.process_time()\n",
    "import numpy as np\n",
    "import numpy.linalg as lin\n",
    "import numpy.random as rnd\n",
    "from matplotlib import pyplot as plt\n",
    "from matplotlib.pyplot import cm\n",
    "\n",
    "\n",
    "def getFigure( sizex = 7, sizey = 7 ):\n",
    "    fig = plt.figure( figsize = (sizex, sizey) )\n",
    "    return fig\n",
    "\n",
    "def plot2D( X, fig, color = 'r', marker = '+', size = 100, empty = False ):\n",
    "    plt.figure( fig.number )\n",
    "    if empty:\n",
    "        plt.scatter( X[:,0], X[:,1], s = size, facecolors = 'none', edgecolors = color, marker = marker  )\n",
    "    else:\n",
    "        plt.scatter( X[:,0], X[:,1], s = size, c = color, marker = marker )\n",
    "\n",
    "\n",
    "def genCrescentData( d, n, mu, r, flipped = False ):\n",
    "    X = np.vstack( (np.cos( np.linspace( 0, np.pi, n ) ), np.sin( np.linspace( 0, np.pi, n ) ) ) ).T\n",
    "    if flipped:\n",
    "        X[:,1] = -np.abs( X[:,1] )\n",
    "    else:\n",
    "        X[:,1] = np.abs( X[:,1] )\n",
    "    X = (X * r) + mu\n",
    "    return X\n",
    "\n",
    "def genSphericalData( d, n, mu, r ):\n",
    "    X = rnd.normal( 0, 1, (n, d) )\n",
    "    norms = lin.norm( X, axis = 1 )\n",
    "    X = X / norms[:, np.newaxis]\n",
    "    X = (X * r) + mu\n",
    "    return X"
   ]
  },
  {
   "cell_type": "code",
   "execution_count": 76,
   "id": "0fd6d91d-881d-499c-beef-bab45182d073",
   "metadata": {},
   "outputs": [],
   "source": [
    "d = 2\n",
    "n = 200\n",
    "\n",
    "mu1 = np.array( [0,0] )\n",
    "mu2 = np.array( [0,1] )\n",
    "mu3 = np.array( [0,0] )\n",
    "mu4 = np.array( [-3,5] )\n",
    "mu5 = np.array( [3,5] )\n",
    "\n",
    "tmp1 = genCrescentData( d, n, mu1, 1 )\n",
    "tmp2 = genCrescentData( d, n, mu2, 5, flipped = True )\n",
    "tmp3 = genSphericalData( d, n, mu3, 10 )\n",
    "tmp4 = genSphericalData( d, n, mu4, 1 )\n",
    "tmp5 = genSphericalData( d, n, mu5, 1 )\n",
    "X = np.vstack( (tmp1, tmp2, tmp3, tmp4, tmp5) )"
   ]
  },
  {
   "cell_type": "code",
   "execution_count": 77,
   "id": "55ce3f05-1c25-44c0-bbe2-daf78d867a01",
   "metadata": {},
   "outputs": [
    {
     "data": {
      "image/png": "[encoded data removed]",
      "text/plain": [
       "<Figure size 576x576 with 1 Axes>"
      ]
     },
     "metadata": {
      "needs_background": "light"
     },
     "output_type": "display_data"
    }
   ],
   "source": [
    "fig = getFigure( 8, 8 )\n",
    "plot2D( X, fig, size = 50, color = 'b', marker = 'o' )"
   ]
  },
  {
   "cell_type": "code",
   "execution_count": 78,
   "id": "ffe1de15-b58b-4d7e-bee9-5250dcc1235e",
   "metadata": {},
   "outputs": [],
   "source": [
    "#function for ploting the results\n",
    "def plot_(X,y,init_center):\n",
    "        n = y[1].__len__()\n",
    "        color = iter(cm.rainbow(np.linspace(.3, 1, n+1)))\n",
    "        fig = getFigure( 12, 12)\n",
    "\n",
    "        for i in range (len(y[1])):\n",
    "            col = next(color)\n",
    "            plt.scatter(X[y[0]==i,0],X[y[0]==i,1],marker='o', color = col, s=100,edgecolor='black', label='cluster '+str(i+1))\n",
    "        \n",
    "        plt.scatter(y[1][:,0],y[1][:,1],s=250, marker='*',c='red', edgecolor='black', label='centroids')\n",
    "        plt.scatter(init_center[:,0],init_center[:,1],s=200, marker='+',c='black', label='initial centers')\n",
    "        plt.legend(scatterpoints=1)\n",
    "        plt.grid()\n",
    "        return "
   ]
  },
  {
   "cell_type": "code",
   "execution_count": 79,
   "id": "c2a43255-0752-4f28-acff-809b3a5bc264",
   "metadata": {},
   "outputs": [
    {
     "name": "stdout",
     "output_type": "stream",
     "text": [
      "Unexpected exception formatting exception. Falling back to standard exception\n"
     ]
    },
    {
     "name": "stderr",
     "output_type": "stream",
     "text": [
      "Traceback (most recent call last):\n",
      "  File \"/Users/monojitlayek/tensorflow-test/env/lib/python3.9/site-packages/IPython/core/interactiveshell.py\", line 3398, in run_code\n",
      "    exec(code_obj, self.user_global_ns, self.user_ns)\n",
      "  File \"/var/folders/dy/dqwjhxdd5m9bxwxj_zz8j4v40000gn/T/ipykernel_7937/3606962885.py\", line 2, in <cell line: 2>\n",
      "    centroids = km.init_centroids(X)          #initilizing the parameters\n",
      "  File \"/Users/monojitlayek/Jupyter Lab/Git Projects/SUS Libery/SUS/clustering.py\", line 10, in init_centroids\n",
      "NameError: name 'np' is not defined\n",
      "\n",
      "During handling of the above exception, another exception occurred:\n",
      "\n",
      "Traceback (most recent call last):\n",
      "  File \"/Users/monojitlayek/tensorflow-test/env/lib/python3.9/site-packages/IPython/core/interactiveshell.py\", line 1993, in showtraceback\n",
      "    stb = self.InteractiveTB.structured_traceback(\n",
      "  File \"/Users/monojitlayek/tensorflow-test/env/lib/python3.9/site-packages/IPython/core/ultratb.py\", line 1118, in structured_traceback\n",
      "    return FormattedTB.structured_traceback(\n",
      "  File \"/Users/monojitlayek/tensorflow-test/env/lib/python3.9/site-packages/IPython/core/ultratb.py\", line 1012, in structured_traceback\n",
      "    return VerboseTB.structured_traceback(\n",
      "  File \"/Users/monojitlayek/tensorflow-test/env/lib/python3.9/site-packages/IPython/core/ultratb.py\", line 865, in structured_traceback\n",
      "    formatted_exception = self.format_exception_as_a_whole(etype, evalue, etb, number_of_lines_of_context,\n",
      "  File \"/Users/monojitlayek/tensorflow-test/env/lib/python3.9/site-packages/IPython/core/ultratb.py\", line 818, in format_exception_as_a_whole\n",
      "    frames.append(self.format_record(r))\n",
      "  File \"/Users/monojitlayek/tensorflow-test/env/lib/python3.9/site-packages/IPython/core/ultratb.py\", line 736, in format_record\n",
      "    result += ''.join(_format_traceback_lines(frame_info.lines, Colors, self.has_colors, lvals))\n",
      "  File \"/Users/monojitlayek/tensorflow-test/env/lib/python3.9/site-packages/stack_data/utils.py\", line 145, in cached_property_wrapper\n",
      "    value = obj.__dict__[self.func.__name__] = self.func(obj)\n",
      "  File \"/Users/monojitlayek/tensorflow-test/env/lib/python3.9/site-packages/stack_data/core.py\", line 698, in lines\n",
      "    pieces = self.included_pieces\n",
      "  File \"/Users/monojitlayek/tensorflow-test/env/lib/python3.9/site-packages/stack_data/utils.py\", line 145, in cached_property_wrapper\n",
      "    value = obj.__dict__[self.func.__name__] = self.func(obj)\n",
      "  File \"/Users/monojitlayek/tensorflow-test/env/lib/python3.9/site-packages/stack_data/core.py\", line 649, in included_pieces\n",
      "    pos = scope_pieces.index(self.executing_piece)\n",
      "  File \"/Users/monojitlayek/tensorflow-test/env/lib/python3.9/site-packages/stack_data/utils.py\", line 145, in cached_property_wrapper\n",
      "    value = obj.__dict__[self.func.__name__] = self.func(obj)\n",
      "  File \"/Users/monojitlayek/tensorflow-test/env/lib/python3.9/site-packages/stack_data/core.py\", line 628, in executing_piece\n",
      "    return only(\n",
      "  File \"/Users/monojitlayek/tensorflow-test/env/lib/python3.9/site-packages/executing/executing.py\", line 164, in only\n",
      "    raise NotOneValueFound('Expected one value, found 0')\n",
      "executing.executing.NotOneValueFound: Expected one value, found 0\n"
     ]
    }
   ],
   "source": [
    "km = kmeans(n_clusters=5, max_iter=100) #fit the model\n",
    "centroids = km.init_centroids(X)          #initilizing the parameters\n",
    "# y_means = km.fit_predict(X,centroids)       #train and test\n",
    "# print(\"Model converges after \"+str(y_means[2])+\" iteration\")\n",
    "# plot_(X,y_means,centroids)                                  #plot the output\n",
    "# plt.title(\"K-Means Clustering\")\n",
    "# plt.show()"
   ]
  },
  {
   "cell_type": "code",
   "execution_count": 64,
   "id": "d4a6482d-5f50-4d6e-89b6-deeb590ce5f7",
   "metadata": {},
   "outputs": [
    {
     "data": {
      "text/plain": [
       "array([[1.        , 0.        ],\n",
       "       [0.99987539, 0.01578624],\n",
       "       [0.99950159, 0.03156855],\n",
       "       ...,\n",
       "       [2.61814495, 5.92422223],\n",
       "       [2.76633903, 4.02768187],\n",
       "       [2.580723  , 4.09214164]])"
      ]
     },
     "execution_count": 64,
     "metadata": {},
     "output_type": "execute_result"
    }
   ],
   "source": [
    "X"
   ]
  },
  {
   "cell_type": "code",
   "execution_count": null,
   "id": "d576597b-5730-468c-95b0-3fb70547dc8a",
   "metadata": {},
   "outputs": [],
   "source": []
  }
 ],
 "metadata": {
  "kernelspec": {
   "display_name": "Python 3 (ipykernel)",
   "language": "python",
   "name": "python3"
  },
  "language_info": {
   "codemirror_mode": {
    "name": "ipython",
    "version": 3
   },
   "file_extension": ".py",
   "mimetype": "text/x-python",
   "name": "python",
   "nbconvert_exporter": "python",
   "pygments_lexer": "ipython3",
   "version": "3.9.13"
  },
  "vscode": {
   "interpreter": {
    "hash": "31f2aee4e71d21fbe5cf8b01ff0e069b9275f58929596ceb00d14d90e3e16cd6"
   }
  }
 },
 "nbformat": 4,
 "nbformat_minor": 5
}
